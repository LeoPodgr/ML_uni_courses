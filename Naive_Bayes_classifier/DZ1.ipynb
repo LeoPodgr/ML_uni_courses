{
 "cells": [
  {
   "cell_type": "code",
   "execution_count": 5,
   "id": "79c969eb",
   "metadata": {},
   "outputs": [],
   "source": [
    "import pandas as pd\n",
    "from sklearn.model_selection import train_test_split\n",
    "from collections import defaultdict\n",
    "from math import log"
   ]
  },
  {
   "cell_type": "code",
   "execution_count": 2,
   "id": "c0432845",
   "metadata": {},
   "outputs": [
    {
     "data": {
      "text/html": [
       "<div>\n",
       "<style scoped>\n",
       "    .dataframe tbody tr th:only-of-type {\n",
       "        vertical-align: middle;\n",
       "    }\n",
       "\n",
       "    .dataframe tbody tr th {\n",
       "        vertical-align: top;\n",
       "    }\n",
       "\n",
       "    .dataframe thead th {\n",
       "        text-align: right;\n",
       "    }\n",
       "</style>\n",
       "<table border=\"1\" class=\"dataframe\">\n",
       "  <thead>\n",
       "    <tr style=\"text-align: right;\">\n",
       "      <th></th>\n",
       "      <th>year</th>\n",
       "      <th>name</th>\n",
       "      <th>percent</th>\n",
       "      <th>sex</th>\n",
       "    </tr>\n",
       "  </thead>\n",
       "  <tbody>\n",
       "    <tr>\n",
       "      <th>0</th>\n",
       "      <td>1880</td>\n",
       "      <td>John</td>\n",
       "      <td>0.081541</td>\n",
       "      <td>boy</td>\n",
       "    </tr>\n",
       "    <tr>\n",
       "      <th>1</th>\n",
       "      <td>1880</td>\n",
       "      <td>William</td>\n",
       "      <td>0.080511</td>\n",
       "      <td>boy</td>\n",
       "    </tr>\n",
       "    <tr>\n",
       "      <th>2</th>\n",
       "      <td>1880</td>\n",
       "      <td>James</td>\n",
       "      <td>0.050057</td>\n",
       "      <td>boy</td>\n",
       "    </tr>\n",
       "    <tr>\n",
       "      <th>3</th>\n",
       "      <td>1880</td>\n",
       "      <td>Charles</td>\n",
       "      <td>0.045167</td>\n",
       "      <td>boy</td>\n",
       "    </tr>\n",
       "    <tr>\n",
       "      <th>4</th>\n",
       "      <td>1880</td>\n",
       "      <td>George</td>\n",
       "      <td>0.043292</td>\n",
       "      <td>boy</td>\n",
       "    </tr>\n",
       "  </tbody>\n",
       "</table>\n",
       "</div>"
      ],
      "text/plain": [
       "   year     name   percent  sex\n",
       "0  1880     John  0.081541  boy\n",
       "1  1880  William  0.080511  boy\n",
       "2  1880    James  0.050057  boy\n",
       "3  1880  Charles  0.045167  boy\n",
       "4  1880   George  0.043292  boy"
      ]
     },
     "execution_count": 2,
     "metadata": {},
     "output_type": "execute_result"
    }
   ],
   "source": [
    "df = pd.read_csv('names.csv')\n",
    "df.head()"
   ]
  },
  {
   "cell_type": "code",
   "execution_count": 11,
   "id": "99731a95",
   "metadata": {},
   "outputs": [
    {
     "name": "stdout",
     "output_type": "stream",
     "text": [
      "<class 'pandas.core.frame.DataFrame'>\n",
      "RangeIndex: 258000 entries, 0 to 257999\n",
      "Data columns (total 4 columns):\n",
      " #   Column   Non-Null Count   Dtype  \n",
      "---  ------   --------------   -----  \n",
      " 0   year     258000 non-null  int64  \n",
      " 1   name     258000 non-null  object \n",
      " 2   percent  258000 non-null  float64\n",
      " 3   sex      258000 non-null  object \n",
      "dtypes: float64(1), int64(1), object(2)\n",
      "memory usage: 7.9+ MB\n"
     ]
    }
   ],
   "source": [
    "df.info()"
   ]
  },
  {
   "cell_type": "code",
   "execution_count": 4,
   "id": "b0f12ed7",
   "metadata": {},
   "outputs": [],
   "source": [
    "x_train, x_test = train_test_split(df, test_size = 0.3, random_state = 42)"
   ]
  },
  {
   "cell_type": "code",
   "execution_count": 12,
   "id": "2da1592f",
   "metadata": {},
   "outputs": [],
   "source": [
    "def train(samples):\n",
    "    classes, freq = defaultdict(lambda:0), defaultdict(lambda:0)\n",
    "    for feats, label in samples:\n",
    "        classes[label] += 1                 # count classes frequencies\n",
    "        for feat in feats:\n",
    "            freq[label, feat] += 1          # count features frequencies\n",
    "\n",
    "    for label, feat in freq:                # normalize features frequencies\n",
    "        freq[label, feat] /= classes[label]\n",
    "    for c in classes:                       # normalize classes frequencies\n",
    "        classes[c] /= len(samples)\n",
    "    print(classes, freq)\n",
    "    return classes, freq                    # return P(C) and P(O|C)\n",
    "\n",
    "def classify(classifier, feats):\n",
    "    classes, prob = classifier\n",
    "    return min(classes.keys(),              # calculate argmin(-log(P(C|O))) -> argmax(P(C|O))\n",
    "        key = lambda cl: -log(classes[cl]) + \\\n",
    "            sum(-log(prob.get((cl,feat), 1)) for feat in feats))\n",
    "\n",
    "def get_features(sample): return (sample[-1]) # get last letter"
   ]
  },
  {
   "cell_type": "code",
   "execution_count": 13,
   "id": "f4a0520a",
   "metadata": {},
   "outputs": [
    {
     "name": "stdout",
     "output_type": "stream",
     "text": [
      "defaultdict(<function train.<locals>.<lambda> at 0x0000022AA9476310>, {'boy': 0.5001771871539313, 'girl': 0.49982281284606866}) defaultdict(<function train.<locals>.<lambda> at 0x0000022ACDC98D30>, {('boy', 'b'): 1.0, ('boy', 'o'): 1.0, ('boy', 'y'): 1.0, ('girl', 'g'): 1.0, ('girl', 'i'): 1.0, ('girl', 'r'): 1.0, ('girl', 'l'): 1.0})\n"
     ]
    }
   ],
   "source": [
    "train_features = [(get_features(row), row['sex']) for index, row in x_train.iterrows()]\n",
    "classifier = train(train_features)"
   ]
  },
  {
   "cell_type": "code",
   "execution_count": 14,
   "id": "e456493f",
   "metadata": {},
   "outputs": [],
   "source": [
    "test_features = [(get_features(row), row['sex']) for index, row in x_test.iterrows()]\n",
    "predictions = [classify(classifier, [feat]) for feat, _ in test_features]"
   ]
  },
  {
   "cell_type": "code",
   "execution_count": 15,
   "id": "9f27846f",
   "metadata": {},
   "outputs": [
    {
     "name": "stdout",
     "output_type": "stream",
     "text": [
      "Доля правильных ответов классификатора: 0.4995865633074935\n"
     ]
    }
   ],
   "source": [
    "correct = sum(1 for pred, (_, gender) in zip(predictions, test_features) if pred == gender)\n",
    "accuracy = correct / len(test_features)\n",
    "print(\"Доля правильных ответов классификатора:\", accuracy)"
   ]
  },
  {
   "cell_type": "code",
   "execution_count": 27,
   "id": "539f88fd",
   "metadata": {},
   "outputs": [],
   "source": [
    "from sklearn.naive_bayes import GaussianNB, MultinomialNB\n",
    "from sklearn.metrics import accuracy_score\n",
    "from functools import reduce"
   ]
  },
  {
   "cell_type": "code",
   "execution_count": 28,
   "id": "2bd003f4",
   "metadata": {},
   "outputs": [],
   "source": [
    "def get_features(sample):\n",
    "    return str(sample[0]) + str(sample[-1]) \n",
    "\n",
    "\n",
    "def classify(classifier, feats):\n",
    "    classes, prob = classifier\n",
    "    probabilities = {cl: classes[cl] * reduce(lambda x, y: x * y, [prob.get((cl, feat), 1) for feat in feats]) for cl in classes.keys()}\n",
    "    return max(probabilities.keys(), key=lambda cl: probabilities[cl])"
   ]
  },
  {
   "cell_type": "code",
   "execution_count": 29,
   "id": "94fd7a38",
   "metadata": {},
   "outputs": [
    {
     "name": "stdout",
     "output_type": "stream",
     "text": [
      "defaultdict(<function train.<locals>.<lambda> at 0x0000022ACDC94AF0>, {'boy': 0.5001771871539313, 'girl': 0.49982281284606866}) defaultdict(<function train.<locals>.<lambda> at 0x0000022AD3BFAEE0>, {('boy', '2'): 0.2468339016074038, ('boy', '0'): 0.3155803037683213, ('boy', 'b'): 1.0, ('boy', 'o'): 1.0, ('boy', 'y'): 1.0, ('girl', '1'): 1.1090530420525546, ('girl', '9'): 1.0251916515265653, ('girl', '2'): 0.24738556299020695, ('girl', '3'): 0.17814729472238225, ('girl', 'g'): 1.0, ('girl', 'i'): 1.0, ('girl', 'r'): 1.0, ('girl', 'l'): 1.0, ('boy', '1'): 1.1069056369835717, ('boy', '9'): 1.0234911216401719, ('boy', '3'): 0.1789952619226852, ('boy', '5'): 0.179183456582385, ('girl', '7'): 0.1785682633934506, ('boy', '8'): 0.4126223265288049, ('boy', '6'): 0.17948235398308462, ('girl', '8'): 0.41190676651748126, ('girl', '0'): 0.3167013781184916, ('boy', '4'): 0.17826462383208608, ('girl', '4'): 0.17808082598484512, ('girl', '6'): 0.17722781051978553, ('girl', '5'): 0.17773740417423672, ('boy', '7'): 0.17864101315148562})\n"
     ]
    }
   ],
   "source": [
    "train_features2 = [(get_features(row), row['sex']) for index, row in x_train.iterrows()]\n",
    "classifier2 = train(train_features2)"
   ]
  },
  {
   "cell_type": "code",
   "execution_count": 30,
   "id": "38b08750",
   "metadata": {},
   "outputs": [],
   "source": [
    "test_features2 = [(get_features(row), row['sex']) for index, row in x_test.iterrows()]\n",
    "predictions2 = [classify(classifier2, [feat]) for feat, _ in test_features2]"
   ]
  },
  {
   "cell_type": "code",
   "execution_count": 34,
   "id": "d781f141",
   "metadata": {},
   "outputs": [
    {
     "name": "stdout",
     "output_type": "stream",
     "text": [
      "Доля правильных ответов классификатора: 0.4995865633074935\n"
     ]
    }
   ],
   "source": [
    "correct2 = sum(1 for pred, (_, gender) in zip(predictions2, test_features2) if pred == gender)\n",
    "accuracy2 = correct2 / len(test_features2)\n",
    "print(\"Доля правильных ответов классификатора:\", accuracy2)"
   ]
  },
  {
   "cell_type": "code",
   "execution_count": 37,
   "id": "a0789e83",
   "metadata": {},
   "outputs": [
    {
     "name": "stdout",
     "output_type": "stream",
     "text": [
      "Точность гауссовского наивного байесовского классификатора: 0.7358785529715762\n",
      "Точность мультиномиального наивного байесовского классификатора: 0.4995865633074935\n"
     ]
    }
   ],
   "source": [
    "gnb = GaussianNB()\n",
    "gnb.fit(x_train['name'].str[-1].apply(ord).values.reshape(-1, 1), x_train['sex'])\n",
    "\n",
    "mnb = MultinomialNB()\n",
    "mnb.fit(x_train['name'].str[-1].apply(ord).values.reshape(-1, 1), x_train['sex'])\n",
    "\n",
    "gnb_predictions = gnb.predict(x_test['name'].str[-1].apply(ord).values.reshape(-1, 1))\n",
    "mnb_predictions = mnb.predict(x_test['name'].str[-1].apply(ord).values.reshape(-1, 1))\n",
    "\n",
    "gnb_accuracy = accuracy_score(x_test['sex'], gnb_predictions)\n",
    "mnb_accuracy = accuracy_score(x_test['sex'], mnb_predictions)\n",
    "\n",
    "print(\"Точность гауссовского наивного байесовского классификатора:\", gnb_accuracy)\n",
    "print(\"Точность мультиномиального наивного байесовского классификатора:\", mnb_accuracy)"
   ]
  },
  {
   "cell_type": "markdown",
   "id": "3e27ea47",
   "metadata": {},
   "source": [
    "# Самым точным стал гаусовский наивный классификатор, в то время как остальные были правы лишь в половине случаев"
   ]
  },
  {
   "cell_type": "code",
   "execution_count": 43,
   "id": "8c6c47bd",
   "metadata": {},
   "outputs": [],
   "source": [
    "from sklearn.datasets import load_iris\n",
    "from sklearn.model_selection import train_test_split\n",
    "import numpy as np\n",
    "\n",
    "iris = load_iris()\n",
    "X = iris.data\n",
    "y = iris.target\n",
    "\n",
    "X_train, X_test, y_train, y_test = train_test_split(X, y, test_size=0.3, random_state=42)"
   ]
  },
  {
   "cell_type": "code",
   "execution_count": 39,
   "id": "cdf74188",
   "metadata": {},
   "outputs": [],
   "source": [
    "from sklearn.discriminant_analysis import LinearDiscriminantAnalysis\n",
    "\n",
    "lda = LinearDiscriminantAnalysis()\n",
    "lda.fit(X_train, y_train)\n",
    "\n",
    "y_pred = lda.predict(X_test)"
   ]
  },
  {
   "cell_type": "code",
   "execution_count": 40,
   "id": "104d9964",
   "metadata": {},
   "outputs": [
    {
     "name": "stdout",
     "output_type": "stream",
     "text": [
      "Accuracy: 1.0\n",
      "Classification Report:\n",
      "              precision    recall  f1-score   support\n",
      "\n",
      "           0       1.00      1.00      1.00        19\n",
      "           1       1.00      1.00      1.00        13\n",
      "           2       1.00      1.00      1.00        13\n",
      "\n",
      "    accuracy                           1.00        45\n",
      "   macro avg       1.00      1.00      1.00        45\n",
      "weighted avg       1.00      1.00      1.00        45\n",
      "\n",
      "Confusion Matrix:\n",
      "[[19  0  0]\n",
      " [ 0 13  0]\n",
      " [ 0  0 13]]\n"
     ]
    }
   ],
   "source": [
    "from sklearn.metrics import accuracy_score, classification_report, confusion_matrix\n",
    "\n",
    "accuracy = accuracy_score(y_test, y_pred)\n",
    "print(\"Accuracy:\", accuracy)\n",
    "\n",
    "print(\"Classification Report:\")\n",
    "print(classification_report(y_test, y_pred))\n",
    "\n",
    "print(\"Confusion Matrix:\")\n",
    "print(confusion_matrix(y_test, y_pred))"
   ]
  },
  {
   "cell_type": "code",
   "execution_count": 41,
   "id": "02877466",
   "metadata": {},
   "outputs": [],
   "source": [
    "def LDA_dimensionality(X, y, k):\n",
    "    '''\n",
    "    X - набор данных, y - метка, k - целевой размер\n",
    "    '''\n",
    "    label_ = list(set(y))\n",
    "\n",
    "    X_classify = {}\n",
    "\n",
    "    for label in label_:\n",
    "        X1 = np.array([X[i] for i in range(len(X)) if y[i] == label])\n",
    "        X_classify[label] = X1\n",
    "\n",
    "    mju = np.mean(X, axis=0)\n",
    "    mju_classify = {}\n",
    "\n",
    "    for label in label_:\n",
    "        mju1 = np.mean(X_classify[label], axis=0)\n",
    "        mju_classify[label] = mju1\n",
    "\n",
    "    #St = np.dot((X - mju).T, X - mju)\n",
    "\n",
    "    Sw = np.zeros((len(mju), len(mju)))  # Вычислить матрицу внутриклассовой дивергенции\n",
    "    for i in label_:\n",
    "        Sw += np.dot((X_classify[i] - mju_classify[i]).T,\n",
    "                     X_classify[i] - mju_classify[i])\n",
    "\n",
    "    # Sb=St-Sw\n",
    "\n",
    "    Sb = np.zeros((len(mju), len(mju)))  # Вычислить матрицу внутриклассовой дивергенции\n",
    "    for i in label_:\n",
    "        Sb += len(X_classify[i]) * np.dot((mju_classify[i] - mju).reshape(\n",
    "            (len(mju), 1)), (mju_classify[i] - mju).reshape((1, len(mju))))\n",
    "\n",
    "    eig_vals, eig_vecs = np.linalg.eig(\n",
    "        np.linalg.inv(Sw).dot(Sb))  # Вычислить собственное значение и собственную матрицу Sw-1 * Sb\n",
    "\n",
    "    sorted_indices = np.argsort(eig_vals)\n",
    "    topk_eig_vecs = eig_vecs[:, sorted_indices[:-k - 1:-1]]  # Извлекаем первые k векторов признаков\n",
    "    return topk_eig_vecs"
   ]
  },
  {
   "cell_type": "code",
   "execution_count": 46,
   "id": "83e5e01d",
   "metadata": {},
   "outputs": [
    {
     "data": {
      "text/plain": [
       "array([[ 0.20115381+0.j, -0.01094741+0.j],\n",
       "       [ 0.50012931+0.j, -0.72669419+0.j],\n",
       "       [-0.58704893+0.j,  0.19626006+0.j],\n",
       "       [-0.60397134+0.j, -0.65823833+0.j]])"
      ]
     },
     "execution_count": 46,
     "metadata": {},
     "output_type": "execute_result"
    }
   ],
   "source": [
    "X_lda = LDA_dimensionality(X_train, y_train, 2)\n",
    "X_lda"
   ]
  },
  {
   "cell_type": "code",
   "execution_count": 47,
   "id": "c3dae672",
   "metadata": {},
   "outputs": [],
   "source": [
    "from sklearn.datasets import load_wine\n",
    "from sklearn.model_selection import KFold, LeaveOneOut, StratifiedKFold, cross_val_score\n",
    "from sklearn.neighbors import KNeighborsClassifier\n",
    "from sklearn.preprocessing import scale\n",
    "import numpy as np\n",
    "\n",
    "wine_data = load_wine()\n",
    "X = wine_data.data\n",
    "y = wine_data.target"
   ]
  },
  {
   "cell_type": "code",
   "execution_count": 48,
   "id": "8f3a7acf",
   "metadata": {},
   "outputs": [],
   "source": [
    "kf = KFold(n_splits=5, shuffle=True, random_state=42)"
   ]
  },
  {
   "cell_type": "code",
   "execution_count": 49,
   "id": "ec559a79",
   "metadata": {},
   "outputs": [],
   "source": [
    "loo = LeaveOneOut()"
   ]
  },
  {
   "cell_type": "code",
   "execution_count": 50,
   "id": "bf4e2265",
   "metadata": {},
   "outputs": [],
   "source": [
    "skf = StratifiedKFold(n_splits=5, shuffle=True, random_state=42)"
   ]
  },
  {
   "cell_type": "code",
   "execution_count": 52,
   "id": "0cbc11a8",
   "metadata": {},
   "outputs": [
    {
     "name": "stdout",
     "output_type": "stream",
     "text": [
      "Лучший результат у метода валидации: Leave-One-Out, k: 36, Точность: 0.98\n"
     ]
    }
   ],
   "source": [
    "results = []\n",
    "for k in range(1, 51):\n",
    "    knn = KNeighborsClassifier(n_neighbors=k)\n",
    "    \n",
    "    X_scaled = scale(X)\n",
    "\n",
    "    for cv_method, name in zip([kf, loo, skf], ['KFold', 'Leave-One-Out', 'Stratified KFold']):\n",
    "        scores = cross_val_score(knn, X_scaled, y, cv=cv_method, scoring='accuracy')\n",
    "        results.append((name, k, scores.mean()))\n",
    "\n",
    "# Находим лучший результат\n",
    "best_result = max(results, key=lambda x: x[2])\n",
    "print(\"Лучший результат у метода валидации: {}, k: {}, Точность: {:.2f}\".format(best_result[0], best_result[1], best_result[2]))"
   ]
  }
 ],
 "metadata": {
  "kernelspec": {
   "display_name": "Python 3 (ipykernel)",
   "language": "python",
   "name": "python3"
  },
  "language_info": {
   "codemirror_mode": {
    "name": "ipython",
    "version": 3
   },
   "file_extension": ".py",
   "mimetype": "text/x-python",
   "name": "python",
   "nbconvert_exporter": "python",
   "pygments_lexer": "ipython3",
   "version": "3.9.2"
  }
 },
 "nbformat": 4,
 "nbformat_minor": 5
}
